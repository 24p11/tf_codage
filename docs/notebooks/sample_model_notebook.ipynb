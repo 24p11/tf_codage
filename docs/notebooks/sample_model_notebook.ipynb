{
 "cells": [
  {
   "cell_type": "markdown",
   "metadata": {},
   "source": [
    "This notebook demonstrates the format of the notebook that can be used toghether with the `train_model` command line tool to train models."
   ]
  },
  {
   "cell_type": "code",
   "execution_count": null,
   "metadata": {
    "tags": [
     "parameters"
    ]
   },
   "outputs": [],
   "source": [
    "# parameters\n",
    "\n",
    "## this cell is required and it is tagged with `parameters` tags \n",
    "## (open the \"property inspector\" sidebar in jupyter lab to see the tag)\n",
    "\n",
    "N_EPOCHS = 100\n",
    "OUTPUT_DIR = 'models/mean_model'\n",
    "LEARNING_RATE = 0.1\n",
    "VERBOSITY = 1"
   ]
  },
  {
   "cell_type": "markdown",
   "metadata": {},
   "source": [
    "---\n",
    "**IMPORTANT**\n",
    "\n",
    "If you use this notebook as a template for your models, please keep the cell above (you can add more parmeters if you wish), but you can remove everything below.\n",
    "\n",
    "---"
   ]
  },
  {
   "cell_type": "markdown",
   "metadata": {},
   "source": [
    "You can run the notebook with the following command:\n",
    "    \n",
    "```bash\n",
    "$ train_model sample_model_notebook.ipynb -n 1000 -l 0.01 --save-path models --log-path logs\n",
    "```\n",
    "\n",
    "The following file should be generated:\n",
    "\n",
    "```bash\n",
    "$ cat models/sample_model_notebook-n_epochs-1000-learning_rate-0.01/result.txt\n",
    "```"
   ]
  },
  {
   "cell_type": "markdown",
   "metadata": {},
   "source": [
    "## model"
   ]
  },
  {
   "cell_type": "code",
   "execution_count": null,
   "metadata": {},
   "outputs": [],
   "source": [
    "## calculate mean using gradient descent\n",
    "\n",
    "data = [0.2, 1, 0.3, 50]\n",
    "mean = 0\n",
    "\n",
    "for i in range(N_EPOCHS):\n",
    "    error = sum(x - mean for x in data)\n",
    "    mean += LEARNING_RATE * error\n",
    "if VERBOSITY < 2:\n",
    "    print(f\"found mean: {mean:.3f}, true mean: {sum(data)/len(data)}\")"
   ]
  },
  {
   "cell_type": "code",
   "execution_count": null,
   "metadata": {},
   "outputs": [],
   "source": [
    "## save the result to a file\n",
    "import os\n",
    "\n",
    "filename = os.path.join(OUTPUT_DIR, \"result.txt\")\n",
    "\n",
    "with open(filename, 'w') as fid:\n",
    "    fid.write(f\"mean: {mean}\")"
   ]
  },
  {
   "cell_type": "code",
   "execution_count": null,
   "metadata": {},
   "outputs": [],
   "source": []
  }
 ],
 "metadata": {
  "kernelspec": {
   "display_name": "[2.4.3] K8s Py3 client",
   "language": "python",
   "name": "k8s-pyspark-client-2.4.3"
  },
  "language_info": {
   "codemirror_mode": {
    "name": "ipython",
    "version": 3
   },
   "file_extension": ".py",
   "mimetype": "text/x-python",
   "name": "python",
   "nbconvert_exporter": "python",
   "pygments_lexer": "ipython3",
   "version": "3.7.8"
  }
 },
 "nbformat": 4,
 "nbformat_minor": 4
}
